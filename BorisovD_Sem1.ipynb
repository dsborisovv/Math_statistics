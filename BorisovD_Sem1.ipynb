{
 "cells": [
  {
   "cell_type": "code",
   "execution_count": 1,
   "metadata": {},
   "outputs": [],
   "source": [
    "import pandas as pd\n",
    "import matplotlib.pyplot as plt\n",
    "import seaborn as sns\n",
    "import numpy as np\n",
    "import random\n",
    "import statistics\n",
    "from scipy.stats import binom, randint, geom, uniform\n",
    "%matplotlib inline"
   ]
  },
  {
   "cell_type": "markdown",
   "metadata": {},
   "source": [
    "#### 1.6. Имеется 36 игральных костей. В первый раз бросаются все игральные кости, во второй раз – только те, на которых в первый раз выпало 6 очков. Пусть S – сумма очков при втором броске. Найдите E(S) и Var(S)."
   ]
  },
  {
   "cell_type": "code",
   "execution_count": 4,
   "metadata": {},
   "outputs": [
    {
     "name": "stdout",
     "output_type": "stream",
     "text": [
      "[5, 4, 2, 3, 5, 4, 4, 2, 1, 5, 2, 2, 2, 1, 2, 1, 3, 6, 1, 2, 2, 5, 3, 4, 1, 6, 6, 5, 3, 2, 3, 6, 4, 2, 6, 2]\n"
     ]
    }
   ],
   "source": [
    "s = []\n",
    "for y in range(100000):\n",
    "    t = []\n",
    "    s.append(t)\n",
    "    for x in range(36):\n",
    "        t.append(random.randint(1, 6))\n",
    "print(s[0])"
   ]
  },
  {
   "cell_type": "code",
   "execution_count": 6,
   "metadata": {},
   "outputs": [
    {
     "name": "stdout",
     "output_type": "stream",
     "text": [
      "E(S) =  21.02129\n",
      "Var(S) =  78.23835673589991\n"
     ]
    }
   ],
   "source": [
    "s1 = []\n",
    "for i in range(100000):\n",
    "    t1 = []\n",
    "    s1.append(t1)\n",
    "    for x in range(s[i].count(6)):\n",
    "        t1.append(random.randint(1, 6))\n",
    "spisok_summ = [sum(s1[i]) for i in range(100000)]\n",
    "print('E(S) = ', statistics.mean(spisok_summ))\n",
    "spisok_summ_rec = [sum(s1[i]) ** 2 for i in range(100000)]\n",
    "print('Var(S) = ', statistics.mean(spisok_summ_rec) - statistics.mean(spisok_summ) ** 2)"
   ]
  },
  {
   "cell_type": "markdown",
   "metadata": {},
   "source": [
    "#### 1.8. Сначала бросается игральная кость, затем монета подбрасывается столько раз, сколько очков выпало на игральной кости, X – число выпавших при этом гербов. Найдите E (X) и Var(X)."
   ]
  },
  {
   "cell_type": "code",
   "execution_count": 8,
   "metadata": {
    "scrolled": true
   },
   "outputs": [
    {
     "name": "stdout",
     "output_type": "stream",
     "text": [
      "E(X) = 0\n",
      "Var(X) = 0\n"
     ]
    }
   ],
   "source": [
    "s = []\n",
    "for j in range(100000):\n",
    "    s.append(sch)\n",
    "    x = random.randint(1, 6)\n",
    "    sch = 0\n",
    "    for i in range(x):\n",
    "        t = random.randint(1, 2)\n",
    "        if t == 1:\n",
    "            sch += 1\n",
    "s1 = [s[i] ** 2 for i in range(100000)]\n",
    "print('E(X) =', statistics.mean(s))    \n",
    "print('Var(X) =', statistics.mean(s1) - statistics.mean(s) ** 2)"
   ]
  },
  {
   "cell_type": "markdown",
   "metadata": {},
   "source": [
    "#### 1.6 Продолжение. Другой способ."
   ]
  },
  {
   "cell_type": "code",
   "execution_count": 75,
   "metadata": {},
   "outputs": [],
   "source": [
    "n = 36 #кол-во кубиков во втором броске\n",
    "p = 1/6\n",
    "N = binom(n, p)\n",
    "a = 1\n",
    "b = 7\n",
    "X = randint(a, b)"
   ]
  },
  {
   "cell_type": "code",
   "execution_count": 76,
   "metadata": {},
   "outputs": [
    {
     "data": {
      "text/plain": [
       "6.29"
      ]
     },
     "execution_count": 76,
     "metadata": {},
     "output_type": "execute_result"
    }
   ],
   "source": [
    "N.rvs(size = 100).mean()"
   ]
  },
  {
   "cell_type": "code",
   "execution_count": 77,
   "metadata": {},
   "outputs": [
    {
     "data": {
      "text/plain": [
       "6.0"
      ]
     },
     "execution_count": 77,
     "metadata": {},
     "output_type": "execute_result"
    }
   ],
   "source": [
    "N.mean() #матожидание"
   ]
  },
  {
   "cell_type": "code",
   "execution_count": 78,
   "metadata": {},
   "outputs": [
    {
     "data": {
      "text/plain": [
       "4.166666666666667"
      ]
     },
     "execution_count": 78,
     "metadata": {},
     "output_type": "execute_result"
    }
   ],
   "source": [
    "sam = list(X.rvs(size = 36))\n",
    "X.rvs(size = sam.count(6)).mean()"
   ]
  },
  {
   "cell_type": "markdown",
   "metadata": {},
   "source": [
    "#### 1.9 Сначала подбрасывается монета. Если выпал «орел», игральная кость бросается до тех пор, пока не выпадет «6», если выпала «решка», игральная кость бросается до тех пор, пока не выпадет «5» или «6». Пусть X – число бросков игральной кости. Найдите E (X) и Var(X)."
   ]
  },
  {
   "cell_type": "code",
   "execution_count": 15,
   "metadata": {},
   "outputs": [
    {
     "name": "stdout",
     "output_type": "stream",
     "text": [
      "E(X) = 4.6355271\n",
      "Var(X) = 20.53818480516559\n"
     ]
    }
   ],
   "source": [
    "s = []\n",
    "for i in range(10000000):\n",
    "    s.append(ch)\n",
    "    x = random.randint(0, 1)\n",
    "    ch = 1\n",
    "    if x == 0:\n",
    "        while random.randint(1, 6) != 6:\n",
    "            ch += 1\n",
    "    else:\n",
    "        while (random.randint(1, 6) != 6) and (random.randint(1, 6) != 5):\n",
    "            ch += 1\n",
    "s1 = [s[i] ** 2 for i in range(10000000)]\n",
    "print('E(X) =', statistics.mean(s))    \n",
    "print('Var(X) =', statistics.mean(s1) - statistics.mean(s) ** 2)        "
   ]
  },
  {
   "cell_type": "markdown",
   "metadata": {},
   "source": [
    "#### 1.7 Игральная кость подбрасывается до тех пор, пока не выпадет 6 очков. Пусть S – сумма очков во всех бросках, кроме последнего (S = 0, если 6 очков выпало при первом броске). Найдите E (S) и Var(S)."
   ]
  },
  {
   "cell_type": "code",
   "execution_count": 7,
   "metadata": {},
   "outputs": [
    {
     "name": "stdout",
     "output_type": "stream",
     "text": [
      "E(S) = 15.008166\n",
      "Var(S) = 280.006055316444\n"
     ]
    }
   ],
   "source": [
    "s1 = []\n",
    "s = []\n",
    "for i in range(1000000):\n",
    "    s.append(sum(s1))\n",
    "    s1.clear()\n",
    "    x = random.randint(1, 6)\n",
    "    if x == 6:\n",
    "        s1 = []\n",
    "    while x != 6:\n",
    "        s1.append(x)\n",
    "        x = random.randint(1, 6)\n",
    "s2 = [s[i] ** 2 for i in range(1000000)]\n",
    "print('E(S) =', statistics.mean(s))    \n",
    "print('Var(S) =', statistics.mean(s2) - statistics.mean(s) ** 2) "
   ]
  },
  {
   "cell_type": "code",
   "execution_count": 14,
   "metadata": {},
   "outputs": [],
   "source": [
    "a = 2\n",
    "b = 5\n",
    "U = uniform(a, b - a)"
   ]
  },
  {
   "cell_type": "code",
   "execution_count": 35,
   "metadata": {},
   "outputs": [],
   "source": [
    "sample = U.rvs(size = 100000)"
   ]
  },
  {
   "cell_type": "code",
   "execution_count": 39,
   "metadata": {},
   "outputs": [
    {
     "data": {
      "text/plain": [
       "2.4000772793044374"
      ]
     },
     "execution_count": 39,
     "metadata": {},
     "output_type": "execute_result"
    }
   ],
   "source": [
    "np.mean(1 / sample ** 2) + 2."
   ]
  },
  {
   "cell_type": "code",
   "execution_count": null,
   "metadata": {},
   "outputs": [],
   "source": []
  }
 ],
 "metadata": {
  "kernelspec": {
   "display_name": "Python 3",
   "language": "python",
   "name": "python3"
  },
  "language_info": {
   "codemirror_mode": {
    "name": "ipython",
    "version": 3
   },
   "file_extension": ".py",
   "mimetype": "text/x-python",
   "name": "python",
   "nbconvert_exporter": "python",
   "pygments_lexer": "ipython3",
   "version": "3.7.4"
  }
 },
 "nbformat": 4,
 "nbformat_minor": 2
}
