{
 "cells": [
  {
   "cell_type": "code",
   "execution_count": 10,
   "metadata": {},
   "outputs": [],
   "source": [
    "import numpy as np\n",
    "import statistics\n",
    "import re\n",
    "from scipy.stats import norm\n",
    "from statsmodels.distributions.empirical_distribution import ECDF\n",
    "\n",
    "def MeanGeom(s, n):\n",
    "    proizv = 1\n",
    "    for i in range(n):\n",
    "        proizv *= s[i]\n",
    "    return (proizv ** (1 / n)) \n",
    "\n",
    "def MeanGarm(s, n):\n",
    "    s1 = []\n",
    "    for i in range(n):\n",
    "        s1.append(1 / s[i])\n",
    "    summa = sum(s1)\n",
    "    return (n / summa)"
   ]
  },
  {
   "cell_type": "markdown",
   "metadata": {},
   "source": [
    "# Задание 1"
   ]
  },
  {
   "cell_type": "code",
   "execution_count": 62,
   "metadata": {},
   "outputs": [
    {
     "name": "stdout",
     "output_type": "stream",
     "text": [
      "65.71428571428571\n",
      "70.0\n",
      "86.53119548080564\n",
      "87.08809095356443\n",
      "84.0\n",
      "1\n"
     ]
    }
   ],
   "source": [
    "s = [53, 70, 68, 84, 81, 65, 12, 15, 83, 20, 52, 100, 97, 93, 15, 81, 100, 60, 78, 97, 56, 0]\n",
    "s1 = []\n",
    "for i in range(len(s)):\n",
    "    if s[i] > 0:\n",
    "        s1.append(s[i])\n",
    "m = np.mean(s1)\n",
    "mm = np.median(s1)\n",
    "s2 = []\n",
    "for i in range(len(s)):\n",
    "    if s[i] >= mm:\n",
    "        s2.append(s[i])\n",
    "sgeom = MeanGeom(s2, len(s2))\n",
    "sgarm = MeanGarm(s2, len(s2))\n",
    "mmm = np.median(s2)\n",
    "if sgarm > mmm:\n",
    "    n = [s[i] for i in range(len(s)) if s[i] <= sgarm and s[i] >= mmm]\n",
    "else:\n",
    "    n = [s[i] for i in range(len(s)) if s[i] <= mmm and s[i] >= sgarm]\n",
    "    \n",
    "print(m)\n",
    "print(mm)\n",
    "print(sgarm)\n",
    "print(sgeom)\n",
    "print(mmm)\n",
    "print(len(n))"
   ]
  },
  {
   "cell_type": "markdown",
   "metadata": {},
   "source": [
    "# Задание 2"
   ]
  },
  {
   "cell_type": "code",
   "execution_count": 65,
   "metadata": {},
   "outputs": [
    {
     "name": "stdout",
     "output_type": "stream",
     "text": [
      "7.433333333333334\n",
      "281.0\n",
      "-182.0680947165984\n",
      "196.9\n",
      "16\n",
      "0.12339180019321327\n"
     ]
    }
   ],
   "source": [
    "s = [-383, -34, 374, -113, -66, -439, -168, 440, 189, -60, 112, -62, 458, -214, 165, 31, 16, -34, 79, -647, 205, -331, 431, 258, 20, 298, -71, 342, -516, -57]\n",
    "s.sort()\n",
    "c = 0\n",
    "\n",
    "average = np.mean(s)\n",
    "stand = np.std(s)\n",
    "\n",
    "X = norm(average, stand)\n",
    "l = X.ppf(0.25)\n",
    "h = X.ppf(0.75)\n",
    "\n",
    "\n",
    "for i in s:\n",
    "    if (i >= l) and (i <= h):\n",
    "        c += 1\n",
    "        \n",
    "ecdf = ECDF(s)\n",
    "F_x_ecdf = list(ecdf.y)\n",
    "F_x_cdf = list(X.cdf(s))\n",
    "F_x_cdf1 = list(X.cdf(s))\n",
    "F_x_cdf2 = list(X.cdf(s))\n",
    "F_x_cdf1.insert(0, 0)\n",
    "F_x_cdf2.append(1)\n",
    "d1 = max(list(map(lambda x, y: abs(x - y), F_x_ecdf, F_x_cdf1)))\n",
    "d2 = max(list(map(lambda x, y: abs(x - y), F_x_ecdf, F_x_cdf2)))\n",
    "d = max(d1, d2)\n",
    "\n",
    "print(average)\n",
    "print(round(stand, 1))\n",
    "print(l)\n",
    "print(round(h, 1))\n",
    "print(c)\n",
    "print(d)"
   ]
  },
  {
   "cell_type": "markdown",
   "metadata": {},
   "source": [
    "# Задание 3"
   ]
  },
  {
   "cell_type": "code",
   "execution_count": 67,
   "metadata": {},
   "outputs": [
    {
     "name": "stdout",
     "output_type": "stream",
     "text": [
      "111.6171875\n",
      "0.789\n"
     ]
    }
   ],
   "source": [
    "spisok = 'x1=81,y1=83, x2=33,y2=35, x3=58,y3=65, x4=82,y4=84, x5=96,y5=92, x6=60,y6=75, x7=37,y7=44, x8=46,y8=33, x9=39,y9=49, x10=37,y10=44, x11=83,y11=75, x12=100,y12=89, x13=47,y13=32, x14=45,y14=48, x15=44,y15=53, x16=79,y16=69, x17=81,y17=70, x18=38,y18=38, x19=69,y19=68, x20=65,y20=80, x21=94,y21=89, x22=71,y22=65, x23=73,y23=83, x24=55,y24=49, x25=41,y25=52, x26=97,y26=97,  x27=58,y27=62'\n",
    "spisok = list(map(lambda x: float(x.replace(',','.')) , re.findall('[-+]?(?:\\d+(?:\\,\\d*)?|\\,\\d+)', spisok)))\n",
    "s_x = spisok[1 : len(spisok) - 1 : 4]\n",
    "s_y = spisok[3 : len(spisok) : 4]\n",
    "\n",
    "s_x_1 = [s_x[i] for i in range(len(s_x)) if s_x[i] >= 50 and s_y[i] >= 50]\n",
    "s_y_1 = [s_y[i] for i in range(len(s_y)) if s_x[i] >= 50 and s_y[i] >= 50]\n",
    "\n",
    "cv = np.cov(s_x_1, s_y_1, bias = True)[0, 1]\n",
    "cf = np.corrcoef(s_x_1, s_y_1)[0, 1]\n",
    "\n",
    "print(cv)\n",
    "print(round(cf, 3))"
   ]
  },
  {
   "cell_type": "markdown",
   "metadata": {},
   "source": [
    "# Задание 4"
   ]
  },
  {
   "cell_type": "code",
   "execution_count": 69,
   "metadata": {},
   "outputs": [
    {
     "name": "stdout",
     "output_type": "stream",
     "text": [
      "75.0\n",
      "5.221215734864821\n"
     ]
    }
   ],
   "source": [
    "n = [21, 29, 30]\n",
    "x = [75, 72, 78]\n",
    "s = [4, 6, 3]\n",
    "\n",
    "s1 = []\n",
    "for i in range(len(x)):\n",
    "    s1.append(n[i] * x[i])\n",
    "r = sum(s1)/sum(n)\n",
    "print(round(r, 1))\n",
    "print((np.dot([i**2 for i in s], n)/sum(n) + np.dot(n, [i**2 for i in [i - r for i in x] ])/sum(n))**(1/2))"
   ]
  },
  {
   "cell_type": "code",
   "execution_count": null,
   "metadata": {},
   "outputs": [],
   "source": []
  }
 ],
 "metadata": {
  "kernelspec": {
   "display_name": "Python 3",
   "language": "python",
   "name": "python3"
  },
  "language_info": {
   "codemirror_mode": {
    "name": "ipython",
    "version": 3
   },
   "file_extension": ".py",
   "mimetype": "text/x-python",
   "name": "python",
   "nbconvert_exporter": "python",
   "pygments_lexer": "ipython3",
   "version": "3.7.4"
  }
 },
 "nbformat": 4,
 "nbformat_minor": 2
}
