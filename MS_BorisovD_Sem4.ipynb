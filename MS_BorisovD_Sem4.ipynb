{
 "cells": [
  {
   "cell_type": "code",
   "execution_count": 1,
   "metadata": {},
   "outputs": [],
   "source": [
    "import numpy as np\n",
    "import matplotlib.pyplot as plt\n",
    "import scipy.stats as stats\n",
    "import math\n",
    "import random\n",
    "%matplotlib inline"
   ]
  },
  {
   "cell_type": "markdown",
   "metadata": {},
   "source": [
    "## 4.1"
   ]
  },
  {
   "cell_type": "code",
   "execution_count": 3,
   "metadata": {},
   "outputs": [],
   "source": [
    "sp_sin = [np.sin(i) for i in range(1, 101)]\n",
    "sp_cos = [np.cos(i) for i in range(1, 101)]"
   ]
  },
  {
   "cell_type": "code",
   "execution_count": 4,
   "metadata": {},
   "outputs": [
    {
     "name": "stdout",
     "output_type": "stream",
     "text": [
      "-0.0012717101366042016\n",
      "0.7090008871157724\n",
      "0.37697988066557236\n",
      "-1.5081297338390796\n"
     ]
    }
   ],
   "source": [
    "print(np.mean(sp_sin))\n",
    "print(np.std(sp_sin))\n",
    "print(stats.moment(sp_sin, moment = 4))\n",
    "print(stats.kurtosis(sp_sin))"
   ]
  },
  {
   "cell_type": "code",
   "execution_count": 15,
   "metadata": {},
   "outputs": [
    {
     "data": {
      "image/png": "[encoded data removed]",
      "text/plain": [
       "<Figure size 432x288 with 1 Axes>"
      ]
     },
     "metadata": {
      "needs_background": "light"
     },
     "output_type": "display_data"
    }
   ],
   "source": [
    "from statsmodels.distributions.empirical_distribution import ECDF\n",
    "ecdf_sin = ECDF(sp_sin)\n",
    "plt.step(ecdf_sin.x, ecdf_sin.y)\n",
    "plt.grid();"
   ]
  },
  {
   "cell_type": "code",
   "execution_count": 16,
   "metadata": {},
   "outputs": [
    {
     "name": "stdout",
     "output_type": "stream",
     "text": [
      "[[ 1.         -0.00273378]\n",
      " [-0.00273378  1.        ]]\n"
     ]
    },
    {
     "data": {
      "image/png": "[encoded data removed]",
      "text/plain": [
       "<Figure size 432x288 with 1 Axes>"
      ]
     },
     "metadata": {
      "needs_background": "light"
     },
     "output_type": "display_data"
    }
   ],
   "source": [
    "from statsmodels.distributions.empirical_distribution import ECDF\n",
    "ecdf_sin = ECDF(sp_sin)\n",
    "ecdf_cos = ECDF(sp_cos)\n",
    "plt.step(ecdf_sin.x, ecdf_sin.y, label = 'sin')\n",
    "plt.step(ecdf_cos.x, ecdf_cos.y, label = 'cos')\n",
    "plt.legend()\n",
    "plt.grid();\n",
    "print(np.corrcoef(sp_sin, sp_cos))"
   ]
  },
  {
   "cell_type": "markdown",
   "metadata": {},
   "source": [
    "## 4.2"
   ]
  },
  {
   "cell_type": "code",
   "execution_count": 5,
   "metadata": {},
   "outputs": [],
   "source": [
    "def IsPrime(n):\n",
    "    d = 2\n",
    "    while d * d <= n and n % d != 0:\n",
    "        d += 1\n",
    "    return d * d > n"
   ]
  },
  {
   "cell_type": "code",
   "execution_count": 19,
   "metadata": {},
   "outputs": [
    {
     "name": "stdout",
     "output_type": "stream",
     "text": [
      "0.08788574351776704\n",
      "-1.0926019048834879\n"
     ]
    }
   ],
   "source": [
    "sp = [i for i in range(3, 99992) if IsPrime(i)]\n",
    "sp1 = []\n",
    "for i in range(3, 99992):\n",
    "    if IsPrime(i):\n",
    "        sp1.append(i * (-1))\n",
    "spp = sp + sp1\n",
    "print(stats.skew(sp))\n",
    "print(stats.kurtosis(spp))"
   ]
  },
  {
   "cell_type": "markdown",
   "metadata": {},
   "source": [
    "## 4.3"
   ]
  },
  {
   "cell_type": "code",
   "execution_count": 3,
   "metadata": {},
   "outputs": [],
   "source": [
    "def MeanGeom(s, n):\n",
    "    proizv = 1\n",
    "    for i in range(n):\n",
    "        proizv *= s[i]\n",
    "    return (proizv ** (1 / n)) \n",
    "\n",
    "def MeanGarm(s, n):\n",
    "    s1 = []\n",
    "    for i in range(n):\n",
    "        s1.append(1 / s[i])\n",
    "    summa = sum(s1)\n",
    "    return (n / summa)\n",
    "\n",
    "def MeanStep(s, n, a):\n",
    "    if a != 0:\n",
    "        s1 = []\n",
    "        for i in range(n):\n",
    "            s1.append(s[i] ** a)\n",
    "        summa = sum(s1)\n",
    "    return (summa / n) ** (1 / a)\n",
    "    "
   ]
  },
  {
   "cell_type": "code",
   "execution_count": 10,
   "metadata": {},
   "outputs": [
    {
     "name": "stdout",
     "output_type": "stream",
     "text": [
      "41.781014648871\n",
      "33.51277429915806\n",
      "55.937465083787984\n"
     ]
    }
   ],
   "source": [
    "spdv = [i for i in range(10, 100) if IsPrime(i)]\n",
    "print(MeanGeom(spdv, len(spdv)))\n",
    "print(MeanGarm(spdv, len(spdv)))\n",
    "print(MeanStep(spdv, len(spdv), 2))"
   ]
  },
  {
   "cell_type": "markdown",
   "metadata": {},
   "source": [
    "## 4.4"
   ]
  },
  {
   "cell_type": "code",
   "execution_count": 11,
   "metadata": {},
   "outputs": [
    {
     "name": "stdout",
     "output_type": "stream",
     "text": [
      "43.461407029925994\n"
     ]
    }
   ],
   "source": [
    "spdv = [i for i in range(10, 100) if IsPrime(i)]\n",
    "s1 = [random.choice(spdv) for i in range(5)]\n",
    "g = MeanGeom(spdv, len(spdv))\n",
    "g5 = MeanGeom(s1, len(s1))\n",
    "s2 = []\n",
    "for i in range(100000):\n",
    "    s2.append(MeanGeom([random.choice(spdv) for i in range(5)], 5))\n",
    "print(np.mean(s2))"
   ]
  },
  {
   "cell_type": "markdown",
   "metadata": {},
   "source": [
    "## 4.5"
   ]
  },
  {
   "cell_type": "code",
   "execution_count": 9,
   "metadata": {},
   "outputs": [
    {
     "data": {
      "image/png": "[encoded data removed]",
      "text/plain": [
       "<Figure size 432x288 with 1 Axes>"
      ]
     },
     "metadata": {
      "needs_background": "light"
     },
     "output_type": "display_data"
    }
   ],
   "source": [
    "spdv = np.array([i for i in range(10, 100) if IsPrime(i)])\n",
    "plt.hist(spdv, bins = 9, weights = np.zeros_like(spdv) + 1 / spdv.size)\n",
    "plt.grid()\n",
    "plt.xlim(10, 100);"
   ]
  },
  {
   "cell_type": "markdown",
   "metadata": {},
   "source": [
    "## 4.6"
   ]
  },
  {
   "cell_type": "code",
   "execution_count": 28,
   "metadata": {},
   "outputs": [],
   "source": [
    "def MeanV(s):\n",
    "    return(1 / len(s)) * sum(s)\n",
    "\n",
    "def VarIspV(s):\n",
    "    const = MeanV(s)\n",
    "    s1 = []\n",
    "    for i in range(len(s)):\n",
    "        s1.append((s[i] - const) ** 2)\n",
    "    return(sum(s1) * (len(s) / (len(s) - 1) * len(s)))    \n",
    "\n",
    "def MomentT(s):\n",
    "    const = MeanV(s)\n",
    "    s1 = []\n",
    "    for i in range(len(s)):\n",
    "        s1.append((s[i] - const) ** 3)\n",
    "    return(sum(s1) * (1 / len(s)))\n",
    "    \n",
    "def MomentIsp(s):\n",
    "    const = MeanV(s)\n",
    "    s1 = []\n",
    "    for i in range(len(s)):\n",
    "        s1.append((s[i] - const) ** 3)\n",
    "    return(sum(s1) * len(s) / ((len(s) - 1) * (len(s) - 2)))"
   ]
  },
  {
   "cell_type": "code",
   "execution_count": 29,
   "metadata": {},
   "outputs": [
    {
     "name": "stdout",
     "output_type": "stream",
     "text": [
      "1.9944527844616957\n",
      "1.9944527844616957\n"
     ]
    }
   ],
   "source": [
    "from scipy.stats import norm\n",
    "x = norm(2, 5)\n",
    "sample = x.rvs(size = 100)\n",
    "s1 = []\n",
    "s2 = []\n",
    "for i in range(10000):\n",
    "    sample = x.rvs(size = 100)\n",
    "    s1.append(MeanV(sample))\n",
    "    s2.append(np.mean(sample))\n",
    "print(np.mean(s1))\n",
    "print(np.mean(s2))"
   ]
  },
  {
   "cell_type": "markdown",
   "metadata": {},
   "source": [
    "## 4.7"
   ]
  },
  {
   "cell_type": "code",
   "execution_count": 70,
   "metadata": {},
   "outputs": [
    {
     "data": {
      "text/plain": [
       "-2527.766855081265"
      ]
     },
     "execution_count": 70,
     "metadata": {},
     "output_type": "execute_result"
    }
   ],
   "source": [
    "from scipy.stats import norm\n",
    "x = norm(2, 5)\n",
    "s1 = []\n",
    "s2 = []\n",
    "for i in range(10000):\n",
    "    sample = x.rvs(size = 1000)\n",
    "    s1.append(MeanV(sample))\n",
    "    s2.append(VarIspV(sample))\n",
    "np.cov(s1, s2)[0][1]"
   ]
  },
  {
   "cell_type": "code",
   "execution_count": 71,
   "metadata": {},
   "outputs": [
    {
     "data": {
      "text/plain": [
       "-0.030452305270016296"
      ]
     },
     "execution_count": 71,
     "metadata": {},
     "output_type": "execute_result"
    }
   ],
   "source": [
    "from scipy.stats import norm\n",
    "x = norm(2, 5)\n",
    "s1 = []\n",
    "s2 = []\n",
    "for i in range(1000):\n",
    "    sample = x.rvs(size = 1000)\n",
    "    s1.append(MeanV(sample))\n",
    "    s2.append(MomentIsp(sample))\n",
    "np.cov(s1, s2)[0][1]"
   ]
  },
  {
   "cell_type": "markdown",
   "metadata": {},
   "source": [
    "## 4.9"
   ]
  },
  {
   "cell_type": "code",
   "execution_count": 62,
   "metadata": {},
   "outputs": [
    {
     "data": {
      "text/plain": [
       "1230146925452.894"
      ]
     },
     "execution_count": 62,
     "metadata": {},
     "output_type": "execute_result"
    }
   ],
   "source": [
    "from scipy.stats import norm\n",
    "x = norm(2, 5)\n",
    "s1 = []\n",
    "s2 = []\n",
    "for i in range(10000):\n",
    "    sample = x.rvs(size = 1000)\n",
    "    s1.append(VarIspV(sample))\n",
    "    s2.append(VarIspV(sample))\n",
    "np.cov(s1, s2)[0][1]"
   ]
  },
  {
   "cell_type": "code",
   "execution_count": 69,
   "metadata": {},
   "outputs": [
    {
     "data": {
      "text/plain": [
       "91.24570715955761"
      ]
     },
     "execution_count": 69,
     "metadata": {},
     "output_type": "execute_result"
    }
   ],
   "source": [
    "from scipy.stats import norm\n",
    "x = norm(2, 5)\n",
    "s1 = []\n",
    "s2 = []\n",
    "for i in range(10000):\n",
    "    sample = x.rvs(size = 1000)\n",
    "    s1.append(MomentIsp(sample))\n",
    "    s2.append(MomentIsp(sample))\n",
    "np.cov(s1, s2)[0][1]"
   ]
  },
  {
   "cell_type": "code",
   "execution_count": null,
   "metadata": {},
   "outputs": [],
   "source": []
  }
 ],
 "metadata": {
  "kernelspec": {
   "display_name": "Python 3",
   "language": "python",
   "name": "python3"
  },
  "language_info": {
   "codemirror_mode": {
    "name": "ipython",
    "version": 3
   },
   "file_extension": ".py",
   "mimetype": "text/x-python",
   "name": "python",
   "nbconvert_exporter": "python",
   "pygments_lexer": "ipython3",
   "version": "3.7.4"
  }
 },
 "nbformat": 4,
 "nbformat_minor": 2
}
