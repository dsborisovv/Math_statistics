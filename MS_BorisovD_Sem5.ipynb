{
 "cells": [
  {
   "cell_type": "code",
   "execution_count": 13,
   "metadata": {},
   "outputs": [],
   "source": [
    "import random\n",
    "import numpy as np"
   ]
  },
  {
   "cell_type": "markdown",
   "metadata": {},
   "source": [
    "## 5.1"
   ]
  },
  {
   "cell_type": "code",
   "execution_count": 68,
   "metadata": {},
   "outputs": [
    {
     "name": "stdout",
     "output_type": "stream",
     "text": [
      "Мат. ожидание =  1.7992740000000003\n",
      "Дисперсия =  0.35971907292399896\n"
     ]
    }
   ],
   "source": [
    "X2 = []\n",
    "X = [2, 1, 1, 2, 1, 2, 2, 3, 2, 2]\n",
    "for i in range(100000):\n",
    "    X1 = np.random.choice(X, 5)\n",
    "    for j in X1:\n",
    "        X2.append(j)\n",
    "        \n",
    "f = lambda A, n = 5: [A[i : i + n] for i in range(0, len(A), n)]\n",
    "final = f(X2)\n",
    "dl_v = []\n",
    "\n",
    "for i in range(len(final)):\n",
    "    h = []\n",
    "    for j in range(5):\n",
    "        h.append(final[i][j] ** 2)\n",
    "    dl_v.append(h)\n",
    "    \n",
    "        \n",
    "mean_list = [np.mean(i) for i in final]\n",
    "mean_list_d = [np.mean(i) for i in dl_v]\n",
    "v = np.mean(mean_list_d)\n",
    "e = np.mean(mean_list)\n",
    "print('Мат. ожидание = ', e)\n",
    "print('Дисперсия = ', v - e ** 2)"
   ]
  },
  {
   "cell_type": "markdown",
   "metadata": {},
   "source": [
    "## 5.2"
   ]
  },
  {
   "cell_type": "code",
   "execution_count": null,
   "metadata": {},
   "outputs": [],
   "source": []
  }
 ],
 "metadata": {
  "kernelspec": {
   "display_name": "Python 3",
   "language": "python",
   "name": "python3"
  },
  "language_info": {
   "codemirror_mode": {
    "name": "ipython",
    "version": 3
   },
   "file_extension": ".py",
   "mimetype": "text/x-python",
   "name": "python",
   "nbconvert_exporter": "python",
   "pygments_lexer": "ipython3",
   "version": "3.7.4"
  }
 },
 "nbformat": 4,
 "nbformat_minor": 2
}
